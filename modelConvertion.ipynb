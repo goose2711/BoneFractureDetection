{
  "nbformat": 4,
  "nbformat_minor": 0,
  "metadata": {
    "colab": {
      "provenance": []
    },
    "kernelspec": {
      "name": "python3",
      "display_name": "Python 3"
    },
    "language_info": {
      "name": "python"
    }
  },
  "cells": [
    {
      "cell_type": "markdown",
      "source": [
        "# **TensorFlow Model Convertion**\n",
        "\n",
        "From .h5 to TensorFlowLite .tflite"
      ],
      "metadata": {
        "id": "P7gP5GVAiuSb"
      }
    },
    {
      "cell_type": "code",
      "source": [
        "from google.colab import drive\n",
        "drive.mount('/content/drive')"
      ],
      "metadata": {
        "colab": {
          "base_uri": "https://localhost:8080/"
        },
        "id": "2ZwwEDk1far3",
        "outputId": "c71711ef-e8f6-483e-b754-a6bcaed6dbf6"
      },
      "execution_count": 1,
      "outputs": [
        {
          "output_type": "stream",
          "name": "stdout",
          "text": [
            "Mounted at /content/drive\n"
          ]
        }
      ]
    },
    {
      "cell_type": "markdown",
      "source": [
        "**Models:**\n",
        "\n",
        "There are a total of four different .h5 models that needs to be converted into tflite models so that they can be used in the android studio environment."
      ],
      "metadata": {
        "id": "tejJRNG0lSzn"
      }
    },
    {
      "cell_type": "markdown",
      "source": [
        "The first model is for detecting the part itself."
      ],
      "metadata": {
        "id": "12kpH8kul_1P"
      }
    },
    {
      "cell_type": "code",
      "source": [
        "import tensorflow as tf\n",
        "\n",
        "# Adjust the path below to the location of your saved Keras model in Google Drive\n",
        "path_to_model = '/content/drive/MyDrive/(Final Project _ IAT481)/storedModels/ResNet50_BodyParts.h5'\n",
        "\n",
        "# Load the TensorFlow model with custom objects or without compiling to avoid optimizer issues\n",
        "model = tf.keras.models.load_model(path_to_model, compile=False)\n",
        "\n",
        "# Convert the model to TensorFlow Lite\n",
        "converter = tf.lite.TFLiteConverter.from_keras_model(model)\n",
        "tflite_model = converter.convert()\n",
        "\n",
        "# Save the TensorFlow Lite model to Google Drive\n",
        "path_to_tflite = '/content/drive/MyDrive/(Final Project _ IAT481)/convertedModels/model1.tflite'\n",
        "\n",
        "with open(path_to_tflite, 'wb') as f:\n",
        "    f.write(tflite_model)\n",
        "\n",
        "print(\"Model converted and saved as\", path_to_tflite)\n"
      ],
      "metadata": {
        "colab": {
          "base_uri": "https://localhost:8080/"
        },
        "id": "35v1Bbi2rzgp",
        "outputId": "e82b796c-31cc-4938-ebda-e70267831088"
      },
      "execution_count": 10,
      "outputs": [
        {
          "output_type": "stream",
          "name": "stdout",
          "text": [
            "Model converted and saved as /content/drive/MyDrive/(Final Project _ IAT481)/convertedModels/model1.tflite\n"
          ]
        }
      ]
    },
    {
      "cell_type": "markdown",
      "source": [
        "The second model is fracture in the elbow model"
      ],
      "metadata": {
        "id": "k_u9-NKkmhDa"
      }
    },
    {
      "cell_type": "code",
      "source": [
        "import tensorflow as tf\n",
        "\n",
        "# Adjust the path below to the location of your saved Keras model in Google Drive\n",
        "path_to_model = '/content/drive/MyDrive/(Final Project _ IAT481)/storedModels/ResNet50_Elbow_frac.h5'  # Change it to your .h5 model path\n",
        "\n",
        "# Load the TensorFlow model\n",
        "model = tf.keras.models.load_model(path_to_model, compile=False)\n",
        "\n",
        "# Convert the model to TensorFlow Lite\n",
        "converter = tf.lite.TFLiteConverter.from_keras_model(model)\n",
        "tflite_model2 = converter.convert()\n",
        "\n",
        "# Save the TensorFlow Lite model in Google Drive\n",
        "path_to_tflite = '/content/drive/MyDrive/(Final Project _ IAT481)/convertedModels/ResNet50_Elbow_frac.tflite'  # Specify your desired path\n",
        "\n",
        "with open(path_to_tflite, 'wb') as f:\n",
        "    f.write(tflite_model2)\n",
        "\n",
        "print(\"Model converted and saved as\", path_to_tflite)\n"
      ],
      "metadata": {
        "colab": {
          "base_uri": "https://localhost:8080/"
        },
        "id": "uHtH8WCpmMWW",
        "outputId": "d74230dd-37e3-4f20-97dd-872bd2f31296"
      },
      "execution_count": 11,
      "outputs": [
        {
          "output_type": "stream",
          "name": "stdout",
          "text": [
            "Model converted and saved as /content/drive/MyDrive/(Final Project _ IAT481)/convertedModels/ResNet50_Elbow_frac.tflite\n"
          ]
        }
      ]
    },
    {
      "cell_type": "markdown",
      "source": [
        "The third model is fracture in the Hand model"
      ],
      "metadata": {
        "id": "0dMDUHW7oUlB"
      }
    },
    {
      "cell_type": "code",
      "source": [
        "import tensorflow as tf\n",
        "\n",
        "# Adjust the path below to the location of your saved Keras model in Google Drive\n",
        "path_to_model = '/content/drive/MyDrive/(Final Project _ IAT481)/storedModels/ResNet50_Hand_frac.h5'  # Change it to your .h5 model path\n",
        "\n",
        "# Load the TensorFlow model\n",
        "model = tf.keras.models.load_model(path_to_model, compile=False)\n",
        "\n",
        "# Convert the model to TensorFlow Lite\n",
        "converter = tf.lite.TFLiteConverter.from_keras_model(model)\n",
        "tflite_model = converter.convert()\n",
        "\n",
        "# Save the TensorFlow Lite model in Google Drive\n",
        "path_to_tflite = '/content/drive/MyDrive/(Final Project _ IAT481)/convertedModels/ResNet50_Hand_frac.tflite'  # Specify your desired path\n",
        "\n",
        "with open(path_to_tflite, 'wb') as f:\n",
        "    f.write(tflite_model)\n",
        "\n",
        "print(\"Model converted and saved as\", path_to_tflite)"
      ],
      "metadata": {
        "colab": {
          "base_uri": "https://localhost:8080/"
        },
        "id": "nPEYi-Wsn1Em",
        "outputId": "c34c09fd-c71f-4f9a-c76a-ea62029e7c64"
      },
      "execution_count": 12,
      "outputs": [
        {
          "output_type": "stream",
          "name": "stdout",
          "text": [
            "Model converted and saved as /content/drive/MyDrive/(Final Project _ IAT481)/convertedModels/ResNet50_Hand_frac.tflite\n"
          ]
        }
      ]
    },
    {
      "cell_type": "markdown",
      "source": [],
      "metadata": {
        "id": "JoQV-jCcsy4x"
      }
    },
    {
      "cell_type": "markdown",
      "source": [
        "The fourth model is fracture in the Shoulder model"
      ],
      "metadata": {
        "id": "QJhyz9V4oXl-"
      }
    },
    {
      "cell_type": "code",
      "source": [
        "import tensorflow as tf\n",
        "\n",
        "# Adjust the path below to the location of your saved Keras model in Google Drive\n",
        "path_to_model = '/content/drive/MyDrive/(Final Project _ IAT481)/storedModels/ResNet50_Shoulder_frac.h5'  # Change it to your .h5 model path\n",
        "\n",
        "# Load the TensorFlow model\n",
        "model = tf.keras.models.load_model(path_to_model, compile=False)\n",
        "\n",
        "# Convert the model to TensorFlow Lite\n",
        "converter = tf.lite.TFLiteConverter.from_keras_model(model)\n",
        "tflite_model = converter.convert()\n",
        "tf.lite.experimental.Analyzer.analyze(model_content=tflite_model)\n",
        "# Save the TensorFlow Lite model in Google Drive\n",
        "path_to_tflite = '/content/drive/MyDrive/(Final Project _ IAT481)/convertedModels/ResNet50_Shoulder_fracjustTest.tflite'  # Specify your desired path\n",
        "\n",
        "with open(path_to_tflite, 'wb') as f:\n",
        "    f.write(tflite_model)\n",
        "\n",
        "print(\"Model converted and saved as\", path_to_tflite)"
      ],
      "metadata": {
        "colab": {
          "base_uri": "https://localhost:8080/"
        },
        "id": "52yaV_H6n11k",
        "outputId": "24fb87ac-548b-4521-da2d-8f671b6783fb"
      },
      "execution_count": 3,
      "outputs": [
        {
          "output_type": "stream",
          "name": "stdout",
          "text": [
            "=== TFLite ModelAnalyzer ===\n",
            "\n",
            "Your TFLite model has '1' subgraph(s). In the subgraph description below,\n",
            "T# represents the Tensor numbers. For example, in Subgraph#0, the PAD op takes\n",
            "tensor #0 and tensor #112 as input and produces tensor #116 as output.\n",
            "\n",
            "Subgraph#0 main(T#0) -> [T#192]\n",
            "  Op#0 PAD(T#0, T#112[0, 0, 3, 3, 3, ...]) -> [T#116]\n",
            "  Op#1 CONV_2D(T#116, T#54, T#1) -> [T#117]\n",
            "  Op#2 PAD(T#117, T#110[0, 0, 1, 1, 1, ...]) -> [T#118]\n",
            "  Op#3 MAX_POOL_2D(T#118) -> [T#119]\n",
            "  Op#4 CONV_2D(T#119, T#55, T#2) -> [T#120]\n",
            "  Op#5 CONV_2D(T#119, T#56, T#3) -> [T#121]\n",
            "  Op#6 CONV_2D(T#121, T#57, T#4) -> [T#122]\n",
            "  Op#7 CONV_2D(T#122, T#58, T#5) -> [T#123]\n",
            "  Op#8 ADD(T#120, T#123) -> [T#124]\n",
            "  Op#9 CONV_2D(T#124, T#59, T#6) -> [T#125]\n",
            "  Op#10 CONV_2D(T#125, T#60, T#7) -> [T#126]\n",
            "  Op#11 CONV_2D(T#126, T#61, T#8) -> [T#127]\n",
            "  Op#12 ADD(T#124, T#127) -> [T#128]\n",
            "  Op#13 CONV_2D(T#128, T#62, T#9) -> [T#129]\n",
            "  Op#14 CONV_2D(T#129, T#63, T#10) -> [T#130]\n",
            "  Op#15 CONV_2D(T#130, T#64, T#11) -> [T#131]\n",
            "  Op#16 ADD(T#128, T#131) -> [T#132]\n",
            "  Op#17 CONV_2D(T#132, T#65, T#12) -> [T#133]\n",
            "  Op#18 CONV_2D(T#132, T#66, T#13) -> [T#134]\n",
            "  Op#19 CONV_2D(T#134, T#67, T#14) -> [T#135]\n",
            "  Op#20 CONV_2D(T#135, T#68, T#15) -> [T#136]\n",
            "  Op#21 ADD(T#133, T#136) -> [T#137]\n",
            "  Op#22 CONV_2D(T#137, T#69, T#16) -> [T#138]\n",
            "  Op#23 CONV_2D(T#138, T#70, T#17) -> [T#139]\n",
            "  Op#24 CONV_2D(T#139, T#71, T#18) -> [T#140]\n",
            "  Op#25 ADD(T#137, T#140) -> [T#141]\n",
            "  Op#26 CONV_2D(T#141, T#72, T#19) -> [T#142]\n",
            "  Op#27 CONV_2D(T#142, T#73, T#20) -> [T#143]\n",
            "  Op#28 CONV_2D(T#143, T#74, T#21) -> [T#144]\n",
            "  Op#29 ADD(T#141, T#144) -> [T#145]\n",
            "  Op#30 CONV_2D(T#145, T#75, T#22) -> [T#146]\n",
            "  Op#31 CONV_2D(T#146, T#76, T#23) -> [T#147]\n",
            "  Op#32 CONV_2D(T#147, T#77, T#24) -> [T#148]\n",
            "  Op#33 ADD(T#145, T#148) -> [T#149]\n",
            "  Op#34 CONV_2D(T#149, T#78, T#25) -> [T#150]\n",
            "  Op#35 CONV_2D(T#149, T#79, T#26) -> [T#151]\n",
            "  Op#36 CONV_2D(T#151, T#80, T#27) -> [T#152]\n",
            "  Op#37 CONV_2D(T#152, T#81, T#28) -> [T#153]\n",
            "  Op#38 ADD(T#150, T#153) -> [T#154]\n",
            "  Op#39 CONV_2D(T#154, T#82, T#29) -> [T#155]\n",
            "  Op#40 CONV_2D(T#155, T#83, T#30) -> [T#156]\n",
            "  Op#41 CONV_2D(T#156, T#84, T#31) -> [T#157]\n",
            "  Op#42 ADD(T#154, T#157) -> [T#158]\n",
            "  Op#43 CONV_2D(T#158, T#85, T#32) -> [T#159]\n",
            "  Op#44 CONV_2D(T#159, T#86, T#33) -> [T#160]\n",
            "  Op#45 CONV_2D(T#160, T#87, T#34) -> [T#161]\n",
            "  Op#46 ADD(T#158, T#161) -> [T#162]\n",
            "  Op#47 CONV_2D(T#162, T#88, T#35) -> [T#163]\n",
            "  Op#48 CONV_2D(T#163, T#89, T#36) -> [T#164]\n",
            "  Op#49 CONV_2D(T#164, T#90, T#37) -> [T#165]\n",
            "  Op#50 ADD(T#162, T#165) -> [T#166]\n",
            "  Op#51 CONV_2D(T#166, T#91, T#38) -> [T#167]\n",
            "  Op#52 CONV_2D(T#167, T#92, T#39) -> [T#168]\n",
            "  Op#53 CONV_2D(T#168, T#93, T#40) -> [T#169]\n",
            "  Op#54 ADD(T#166, T#169) -> [T#170]\n",
            "  Op#55 CONV_2D(T#170, T#94, T#41) -> [T#171]\n",
            "  Op#56 CONV_2D(T#171, T#95, T#42) -> [T#172]\n",
            "  Op#57 CONV_2D(T#172, T#96, T#43) -> [T#173]\n",
            "  Op#58 ADD(T#170, T#173) -> [T#174]\n",
            "  Op#59 CONV_2D(T#174, T#97, T#44) -> [T#175]\n",
            "  Op#60 CONV_2D(T#174, T#98, T#45) -> [T#176]\n",
            "  Op#61 CONV_2D(T#176, T#99, T#46) -> [T#177]\n",
            "  Op#62 CONV_2D(T#177, T#100, T#47) -> [T#178]\n",
            "  Op#63 ADD(T#175, T#178) -> [T#179]\n",
            "  Op#64 CONV_2D(T#179, T#101, T#48) -> [T#180]\n",
            "  Op#65 CONV_2D(T#180, T#102, T#49) -> [T#181]\n",
            "  Op#66 CONV_2D(T#181, T#103, T#50) -> [T#182]\n",
            "  Op#67 ADD(T#179, T#182) -> [T#183]\n",
            "  Op#68 CONV_2D(T#183, T#104, T#51) -> [T#184]\n",
            "  Op#69 CONV_2D(T#184, T#105, T#52) -> [T#185]\n",
            "  Op#70 CONV_2D(T#185, T#106, T#53) -> [T#186]\n",
            "  Op#71 ADD(T#183, T#186) -> [T#187]\n",
            "  Op#72 MEAN(T#187, T#111[1, 2]) -> [T#188]\n",
            "  Op#73 FULLY_CONNECTED(T#188, T#113, T#109) -> [T#189]\n",
            "  Op#74 FULLY_CONNECTED(T#189, T#114, T#108) -> [T#190]\n",
            "  Op#75 FULLY_CONNECTED(T#190, T#115, T#107) -> [T#191]\n",
            "  Op#76 SOFTMAX(T#191) -> [T#192]\n",
            "\n",
            "Tensors of Subgraph#0\n",
            "  T#0(serving_default_input_3:0) shape_signature:[-1, 224, 224, 3], type:FLOAT32\n",
            "  T#1(model_2/conv1_bn/FusedBatchNormV3) shape:[64], type:FLOAT32 RO 256 bytes, buffer: 2, data:[1.48173, -1.10685, -1.05162, -1.90365, 1.33259, ...]\n",
            "  T#2(model_2/conv2_block1_0_bn/FusedBatchNormV3) shape:[256], type:FLOAT32 RO 1024 bytes, buffer: 3, data:[-0.0980581, -1.78322, 2.74794, 0.948467, 2.5567, ...]\n",
            "  T#3(model_2/conv2_block1_1_bn/FusedBatchNormV3) shape:[64], type:FLOAT32 RO 256 bytes, buffer: 4, data:[3.55286, 3.54701, 2.03126, -4.40384, 5.70318, ...]\n",
            "  T#4(model_2/conv2_block1_2_bn/FusedBatchNormV3) shape:[64], type:FLOAT32 RO 256 bytes, buffer: 5, data:[-2.03306, 0.507871, 0.245214, 4.26877, -2.25404, ...]\n",
            "  T#5(model_2/conv2_block1_3_bn/FusedBatchNormV3) shape:[256], type:FLOAT32 RO 1024 bytes, buffer: 6, data:[-1.36381, -0.124947, 3.23563, -2.8662, 2.62692, ...]\n",
            "  T#6(model_2/conv2_block2_1_bn/FusedBatchNormV3) shape:[64], type:FLOAT32 RO 256 bytes, buffer: 7, data:[0.40411, 0.529509, 0.659124, 0.359537, 1.07271, ...]\n",
            "  T#7(model_2/conv2_block2_2_bn/FusedBatchNormV3) shape:[64], type:FLOAT32 RO 256 bytes, buffer: 8, data:[-0.566339, 2.19773, 0.469075, 0.354645, 0.671897, ...]\n",
            "  T#8(model_2/conv2_block2_3_bn/FusedBatchNormV3) shape:[256], type:FLOAT32 RO 1024 bytes, buffer: 9, data:[-3.55673, -0.626014, 0.103755, -0.745718, -2.00939, ...]\n",
            "  T#9(model_2/conv2_block3_1_bn/FusedBatchNormV3) shape:[64], type:FLOAT32 RO 256 bytes, buffer: 10, data:[1.54701, 0.445305, -0.207709, 0.0857184, -1.74178, ...]\n",
            "  T#10(model_2/conv2_block3_2_bn/FusedBatchNormV3) shape:[64], type:FLOAT32 RO 256 bytes, buffer: 11, data:[-0.410776, 1.8384, 2.24939, 0.168918, -0.136441, ...]\n",
            "  T#11(model_2/conv2_block3_3_bn/FusedBatchNormV3) shape:[256], type:FLOAT32 RO 1024 bytes, buffer: 12, data:[0.0837505, 1.56937, 0.0281555, -0.248643, -1.25644, ...]\n",
            "  T#12(model_2/conv3_block1_0_bn/FusedBatchNormV3) shape:[512], type:FLOAT32 RO 2048 bytes, buffer: 13, data:[1.00127, -0.569048, 0.58966, 1.85851, 0.299977, ...]\n",
            "  T#13(model_2/conv3_block1_1_bn/FusedBatchNormV3) shape:[128], type:FLOAT32 RO 512 bytes, buffer: 14, data:[1.88629, 0.129865, -0.533765, -0.326179, 0.851805, ...]\n",
            "  T#14(model_2/conv3_block1_2_bn/FusedBatchNormV3) shape:[128], type:FLOAT32 RO 512 bytes, buffer: 15, data:[0.355914, 0.364394, -0.721266, -1.23132, 4.36128, ...]\n",
            "  T#15(model_2/conv3_block1_3_bn/FusedBatchNormV3) shape:[512], type:FLOAT32 RO 2048 bytes, buffer: 16, data:[-0.0642706, 0.71305, -0.132087, 0.886226, 0.858062, ...]\n",
            "  T#16(model_2/conv3_block2_1_bn/FusedBatchNormV3) shape:[128], type:FLOAT32 RO 512 bytes, buffer: 17, data:[-0.35221, -1.23721, 0.466849, -2.37233, -1.61141, ...]\n",
            "  T#17(model_2/conv3_block2_2_bn/FusedBatchNormV3) shape:[128], type:FLOAT32 RO 512 bytes, buffer: 18, data:[-0.259494, -0.239017, 0.470877, 1.12552, -0.431811, ...]\n",
            "  T#18(model_2/conv3_block2_3_bn/FusedBatchNormV3) shape:[512], type:FLOAT32 RO 2048 bytes, buffer: 19, data:[-0.106625, -0.259431, -0.782798, -0.275508, -0.114607, ...]\n",
            "  T#19(model_2/conv3_block3_1_bn/FusedBatchNormV3) shape:[128], type:FLOAT32 RO 512 bytes, buffer: 20, data:[-1.11817, -0.409156, -0.590121, -0.642856, -0.23992, ...]\n",
            "  T#20(model_2/conv3_block3_2_bn/FusedBatchNormV3) shape:[128], type:FLOAT32 RO 512 bytes, buffer: 21, data:[-1.1158, -0.26023, 0.796593, -0.88581, -2.46931, ...]\n",
            "  T#21(model_2/conv3_block3_3_bn/FusedBatchNormV3) shape:[512], type:FLOAT32 RO 2048 bytes, buffer: 22, data:[-0.450397, -0.729809, -0.335053, 0.122768, 0.0110706, ...]\n",
            "  T#22(model_2/conv3_block4_1_bn/FusedBatchNormV3) shape:[128], type:FLOAT32 RO 512 bytes, buffer: 23, data:[-0.0166816, -0.433818, 0.708005, 0.532921, 0.178296, ...]\n",
            "  T#23(model_2/conv3_block4_2_bn/FusedBatchNormV3) shape:[128], type:FLOAT32 RO 512 bytes, buffer: 24, data:[0.879653, -0.484479, 0.458192, 0.419282, 0.481374, ...]\n",
            "  T#24(model_2/conv3_block4_3_bn/FusedBatchNormV3) shape:[512], type:FLOAT32 RO 2048 bytes, buffer: 25, data:[0.818327, 1.63834, -0.551447, 0.14907, 0.0347946, ...]\n",
            "  T#25(model_2/conv4_block1_0_bn/FusedBatchNormV3) shape:[1024], type:FLOAT32 RO 4096 bytes, buffer: 26, data:[0.777251, -0.605599, -2.20143, -1.13066, -0.143847, ...]\n",
            "  T#26(model_2/conv4_block1_1_bn/FusedBatchNormV3) shape:[256], type:FLOAT32 RO 1024 bytes, buffer: 27, data:[-0.120672, 0.912179, -1.80784, -0.433978, -0.874602, ...]\n",
            "  T#27(model_2/conv4_block1_2_bn/FusedBatchNormV3) shape:[256], type:FLOAT32 RO 1024 bytes, buffer: 28, data:[0.220543, -0.347756, 0.301897, 0.715676, -0.449679, ...]\n",
            "  T#28(model_2/conv4_block1_3_bn/FusedBatchNormV3) shape:[1024], type:FLOAT32 RO 4096 bytes, buffer: 29, data:[-0.691701, -0.871359, 0.228672, 0.871771, 1.49988, ...]\n",
            "  T#29(model_2/conv4_block2_1_bn/FusedBatchNormV3) shape:[256], type:FLOAT32 RO 1024 bytes, buffer: 30, data:[1.0946, 0.924734, -0.573882, 0.905708, 0.166484, ...]\n",
            "  T#30(model_2/conv4_block2_2_bn/FusedBatchNormV3) shape:[256], type:FLOAT32 RO 1024 bytes, buffer: 31, data:[-0.208689, -0.723039, 2.90526, 1.14683, 0.543231, ...]\n",
            "  T#31(model_2/conv4_block2_3_bn/FusedBatchNormV3) shape:[1024], type:FLOAT32 RO 4096 bytes, buffer: 32, data:[-0.419811, 0.235025, -0.585914, -0.592246, -0.073661, ...]\n",
            "  T#32(model_2/conv4_block3_1_bn/FusedBatchNormV3) shape:[256], type:FLOAT32 RO 1024 bytes, buffer: 33, data:[0.303153, 0.325072, -0.187505, -0.792597, -0.780077, ...]\n",
            "  T#33(model_2/conv4_block3_2_bn/FusedBatchNormV3) shape:[256], type:FLOAT32 RO 1024 bytes, buffer: 34, data:[0.41055, -1.21301, 0.787572, 0.713107, -0.230492, ...]\n",
            "  T#34(model_2/conv4_block3_3_bn/FusedBatchNormV3) shape:[1024], type:FLOAT32 RO 4096 bytes, buffer: 35, data:[-0.145606, 0.2614, -0.638123, -0.102457, 0.107266, ...]\n",
            "  T#35(model_2/conv4_block4_1_bn/FusedBatchNormV3) shape:[256], type:FLOAT32 RO 1024 bytes, buffer: 36, data:[-0.390297, 0.360375, 0.301622, -0.670661, -0.567542, ...]\n",
            "  T#36(model_2/conv4_block4_2_bn/FusedBatchNormV3) shape:[256], type:FLOAT32 RO 1024 bytes, buffer: 37, data:[-0.611168, 0.208689, -0.249035, 0.235631, 0.0360592, ...]\n",
            "  T#37(model_2/conv4_block4_3_bn/FusedBatchNormV3) shape:[1024], type:FLOAT32 RO 4096 bytes, buffer: 38, data:[0.113025, -0.294592, -0.233621, 0.220572, 0.280968, ...]\n",
            "  T#38(model_2/conv4_block5_1_bn/FusedBatchNormV3) shape:[256], type:FLOAT32 RO 1024 bytes, buffer: 39, data:[-0.282347, 0.203594, 0.0258506, -0.47026, -0.645411, ...]\n",
            "  T#39(model_2/conv4_block5_2_bn/FusedBatchNormV3) shape:[256], type:FLOAT32 RO 1024 bytes, buffer: 40, data:[0.451313, 0.671004, -1.92686, 0.602529, 0.494453, ...]\n",
            "  T#40(model_2/conv4_block5_3_bn/FusedBatchNormV3) shape:[1024], type:FLOAT32 RO 4096 bytes, buffer: 41, data:[-0.318242, -0.564207, 0.0739432, -0.133637, 0.410457, ...]\n",
            "  T#41(model_2/conv4_block6_1_bn/FusedBatchNormV3) shape:[256], type:FLOAT32 RO 1024 bytes, buffer: 42, data:[-1.15927, -1.21406, -0.7812, -0.721321, -0.461613, ...]\n",
            "  T#42(model_2/conv4_block6_2_bn/FusedBatchNormV3) shape:[256], type:FLOAT32 RO 1024 bytes, buffer: 43, data:[0.55179, 0.492208, 0.34386, 0.373528, -0.165827, ...]\n",
            "  T#43(model_2/conv4_block6_3_bn/FusedBatchNormV3) shape:[1024], type:FLOAT32 RO 4096 bytes, buffer: 44, data:[0.565651, 0.498879, -0.0124655, -0.2322, -0.0246157, ...]\n",
            "  T#44(model_2/conv5_block1_0_bn/FusedBatchNormV3) shape:[2048], type:FLOAT32 RO 8192 bytes, buffer: 45, data:[0.229141, -1.43986, 0.559014, -1.2837, -1.20576, ...]\n",
            "  T#45(model_2/conv5_block1_1_bn/FusedBatchNormV3) shape:[512], type:FLOAT32 RO 2048 bytes, buffer: 46, data:[-0.299787, -0.234434, -0.896497, -0.0010764, 0.676991, ...]\n",
            "  T#46(model_2/conv5_block1_2_bn/FusedBatchNormV3) shape:[512], type:FLOAT32 RO 2048 bytes, buffer: 47, data:[0.356321, 0.180877, 0.263071, 0.200317, 0.701227, ...]\n",
            "  T#47(model_2/conv5_block1_3_bn/FusedBatchNormV3) shape:[2048], type:FLOAT32 RO 8192 bytes, buffer: 48, data:[-0.611617, 1.93481, -1.27421, -0.375263, -0.0708449, ...]\n",
            "  T#48(model_2/conv5_block2_1_bn/FusedBatchNormV3) shape:[512], type:FLOAT32 RO 2048 bytes, buffer: 49, data:[0.321595, 0.0321113, -0.605777, 0.289451, 0.153169, ...]\n",
            "  T#49(model_2/conv5_block2_2_bn/FusedBatchNormV3) shape:[512], type:FLOAT32 RO 2048 bytes, buffer: 50, data:[0.169187, 0.110812, 0.334952, -0.182769, 0.430846, ...]\n",
            "  T#50(model_2/conv5_block2_3_bn/FusedBatchNormV3) shape:[2048], type:FLOAT32 RO 8192 bytes, buffer: 51, data:[-0.0886219, -1.69599, -1.15829, -0.368562, -1.03176, ...]\n",
            "  T#51(model_2/conv5_block3_1_bn/FusedBatchNormV3) shape:[512], type:FLOAT32 RO 2048 bytes, buffer: 52, data:[0.0104173, -0.419171, -0.143356, -0.187384, -0.282172, ...]\n",
            "  T#52(model_2/conv5_block3_2_bn/FusedBatchNormV3) shape:[512], type:FLOAT32 RO 2048 bytes, buffer: 53, data:[-0.0217481, 0.296553, 0.115487, -0.0475038, 0.406063, ...]\n",
            "  T#53(model_2/conv5_block3_3_bn/FusedBatchNormV3) shape:[2048], type:FLOAT32 RO 8192 bytes, buffer: 54, data:[0.278429, -0.410799, -0.615282, -0.617932, -0.574998, ...]\n",
            "  T#54(model_2/conv1_conv/Conv2D) shape:[64, 7, 7, 3], type:FLOAT32 RO 37632 bytes, buffer: 55, data:[0.000417323, 8.6681e-05, -3.60549e-05, 0.000268646, 0.000277038, ...]\n",
            "  T#55(model_2/conv2_block1_0_conv/Conv2D) shape:[256, 1, 1, 64], type:FLOAT32 RO 65536 bytes, buffer: 56, data:[0.00704391, -0.00324686, 0.00316335, 0.0053333, -0.011921, ...]\n",
            "  T#56(model_2/conv2_block1_1_conv/Conv2D) shape:[64, 1, 1, 64], type:FLOAT32 RO 16384 bytes, buffer: 57, data:[0.0856407, 0.0133705, -0.0273699, 0.0467158, -0.00531638, ...]\n",
            "  T#57(model_2/conv2_block1_2_conv/Conv2D) shape:[64, 3, 3, 64], type:FLOAT32 RO 147456 bytes, buffer: 58, data:[-0.0289931, 0.0261118, -0.0215674, 0.00297239, 0.0186392, ...]\n",
            "  T#58(model_2/conv2_block1_3_conv/Conv2D) shape:[256, 1, 1, 64], type:FLOAT32 RO 65536 bytes, buffer: 59, data:[0.0275864, 0.0605095, -0.0105915, 0.00177356, -0.00445692, ...]\n",
            "  T#59(model_2/conv2_block2_1_conv/Conv2D) shape:[64, 1, 1, 256], type:FLOAT32 RO 65536 bytes, buffer: 60, data:[0.00538297, -0.00523377, -0.0188123, -0.0309318, -0.0283489, ...]\n",
            "  T#60(model_2/conv2_block2_2_conv/Conv2D) shape:[64, 3, 3, 64], type:FLOAT32 RO 147456 bytes, buffer: 61, data:[0.0247487, -0.0589777, 0.00434042, -0.00546107, 0.0345469, ...]\n",
            "  T#61(model_2/conv2_block2_3_conv/Conv2D) shape:[256, 1, 1, 64], type:FLOAT32 RO 65536 bytes, buffer: 62, data:[-0.21302, -0.12744, 0.0709664, -0.245006, -0.634814, ...]\n",
            "  T#62(model_2/conv2_block3_1_conv/Conv2D) shape:[64, 1, 1, 256], type:FLOAT32 RO 65536 bytes, buffer: 63, data:[0.00971441, -0.0488462, 0.0334118, 0.0527523, -0.06402, ...]\n",
            "  T#63(model_2/conv2_block3_2_conv/Conv2D) shape:[64, 3, 3, 64], type:FLOAT32 RO 147456 bytes, buffer: 64, data:[-0.0192127, 0.0115378, 0.00258966, 0.0603674, -0.0129457, ...]\n",
            "  T#64(model_2/conv2_block3_3_conv/Conv2D) shape:[256, 1, 1, 64], type:FLOAT32 RO 65536 bytes, buffer: 65, data:[-0.037597, 0.186981, -0.187962, -0.0361897, -0.192456, ...]\n",
            "  T#65(model_2/conv3_block1_0_conv/Conv2D) shape:[512, 1, 1, 256], type:FLOAT32 RO 524288 bytes, buffer: 66, data:[-0.0252546, -0.0100433, 0.126062, 0.0475718, -0.0285644, ...]\n",
            "  T#66(model_2/conv3_block1_1_conv/Conv2D) shape:[128, 1, 1, 256], type:FLOAT32 RO 131072 bytes, buffer: 67, data:[0.034851, 0.00527499, -0.0288194, 0.0195291, 0.00116274, ...]\n",
            "  T#67(model_2/conv3_block1_2_conv/Conv2D) shape:[128, 3, 3, 128], type:FLOAT32 RO 589824 bytes, buffer: 68, data:[-0.0205844, -1.87886e-06, 0.00754739, -0.00347481, 0.00331186, ...]\n",
            "  T#68(model_2/conv3_block1_3_conv/Conv2D) shape:[512, 1, 1, 128], type:FLOAT32 RO 262144 bytes, buffer: 69, data:[-0.0348791, -0.0540027, -0.0862362, -0.012632, 0.0872282, ...]\n",
            "  T#69(model_2/conv3_block2_1_conv/Conv2D) shape:[128, 1, 1, 512], type:FLOAT32 RO 262144 bytes, buffer: 70, data:[-0.0291279, 0.0159469, 0.0174129, -0.0171055, 0.00690373, ...]\n",
            "  T#70(model_2/conv3_block2_2_conv/Conv2D) shape:[128, 3, 3, 128], type:FLOAT32 RO 589824 bytes, buffer: 71, data:[0.00429241, -0.0115852, -0.0567119, 0.0156378, 0.00455737, ...]\n",
            "  T#71(model_2/conv3_block2_3_conv/Conv2D) shape:[512, 1, 1, 128], type:FLOAT32 RO 262144 bytes, buffer: 72, data:[0.0544054, -0.076486, 0.152552, -0.0373634, -0.0504249, ...]\n",
            "  T#72(model_2/conv3_block3_1_conv/Conv2D) shape:[128, 1, 1, 512], type:FLOAT32 RO 262144 bytes, buffer: 73, data:[0.0234336, 0.00949946, 0.0242653, 0.00531521, -0.017086, ...]\n",
            "  T#73(model_2/conv3_block3_2_conv/Conv2D) shape:[128, 3, 3, 128], type:FLOAT32 RO 589824 bytes, buffer: 74, data:[-0.0261519, 0.0250984, -0.0113265, -0.0012916, 0.0305554, ...]\n",
            "  T#74(model_2/conv3_block3_3_conv/Conv2D) shape:[512, 1, 1, 128], type:FLOAT32 RO 262144 bytes, buffer: 75, data:[0.0376826, -0.0541236, -0.0202111, 0.14017, -0.0070776, ...]\n",
            "  T#75(model_2/conv3_block4_1_conv/Conv2D) shape:[128, 1, 1, 512], type:FLOAT32 RO 262144 bytes, buffer: 76, data:[0.00476126, -0.0135668, 0.00225091, 0.0161508, 0.0514486, ...]\n",
            "  T#76(model_2/conv3_block4_2_conv/Conv2D) shape:[128, 3, 3, 128], type:FLOAT32 RO 589824 bytes, buffer: 77, data:[-0.0339122, -0.0270424, -0.00887078, -0.0294345, -0.0249969, ...]\n",
            "  T#77(model_2/conv3_block4_3_conv/Conv2D) shape:[512, 1, 1, 128], type:FLOAT32 RO 262144 bytes, buffer: 78, data:[0.0263001, -0.0106432, 0.000453149, 0.0370425, -0.00198301, ...]\n",
            "  T#78(model_2/conv4_block1_0_conv/Conv2D) shape:[1024, 1, 1, 512], type:FLOAT32 RO 2097152 bytes, buffer: 79, data:[0.038831, 0.00935975, 0.0144882, 0.114219, -0.00796147, ...]\n",
            "  T#79(model_2/conv4_block1_1_conv/Conv2D) shape:[256, 1, 1, 512], type:FLOAT32 RO 524288 bytes, buffer: 80, data:[-8.91622e-05, 0.0218223, -0.0112064, 0.00367494, 0.00657804, ...]\n",
            "  T#80(model_2/conv4_block1_2_conv/Conv2D) shape:[256, 3, 3, 256], type:FLOAT32 RO 2359296 bytes, buffer: 81, data:[-0.0152467, 1.45071e-05, 0.00959405, 0.011483, -0.0137072, ...]\n",
            "  T#81(model_2/conv4_block1_3_conv/Conv2D) shape:[1024, 1, 1, 256], type:FLOAT32 RO 1048576 bytes, buffer: 82, data:[0.0354805, -0.0744268, 0.0270058, -0.0768515, -0.113287, ...]\n",
            "  T#82(model_2/conv4_block2_1_conv/Conv2D) shape:[256, 1, 1, 1024], type:FLOAT32 RO 1048576 bytes, buffer: 83, data:[-0.00673623, 0.00961757, -0.00807019, 0.00923536, -0.0107839, ...]\n",
            "  T#83(model_2/conv4_block2_2_conv/Conv2D) shape:[256, 3, 3, 256], type:FLOAT32 RO 2359296 bytes, buffer: 84, data:[-0.02569, 0.0122459, 0.0109301, 0.0146213, 0.0586985, ...]\n",
            "  T#84(model_2/conv4_block2_3_conv/Conv2D) shape:[1024, 1, 1, 256], type:FLOAT32 RO 1048576 bytes, buffer: 85, data:[0.0490558, 0.0986591, -4.29265e-05, -0.0187257, -0.101909, ...]\n",
            "  T#85(model_2/conv4_block3_1_conv/Conv2D) shape:[256, 1, 1, 1024], type:FLOAT32 RO 1048576 bytes, buffer: 86, data:[0.000964803, -0.0152107, 0.0078971, -0.0111388, 0.0147491, ...]\n",
            "  T#86(model_2/conv4_block3_2_conv/Conv2D) shape:[256, 3, 3, 256], type:FLOAT32 RO 2359296 bytes, buffer: 87, data:[0.0261445, 0.0113449, -0.00138354, -0.000797217, -0.0933231, ...]\n",
            "  T#87(model_2/conv4_block3_3_conv/Conv2D) shape:[1024, 1, 1, 256], type:FLOAT32 RO 1048576 bytes, buffer: 88, data:[-0.0407829, -0.0131869, 0.0590414, 0.0425885, 0.241559, ...]\n",
            "  T#88(model_2/conv4_block4_1_conv/Conv2D) shape:[256, 1, 1, 1024], type:FLOAT32 RO 1048576 bytes, buffer: 89, data:[-0.0124918, -0.00642826, -0.00153311, 0.00541604, 0.0874294, ...]\n",
            "  T#89(model_2/conv4_block4_2_conv/Conv2D) shape:[256, 3, 3, 256], type:FLOAT32 RO 2359296 bytes, buffer: 90, data:[0.0174804, -0.0112682, 0.00632035, -0.0186103, 0.0389618, ...]\n",
            "  T#90(model_2/conv4_block4_3_conv/Conv2D) shape:[1024, 1, 1, 256], type:FLOAT32 RO 1048576 bytes, buffer: 91, data:[0.143568, -0.0303645, -0.130288, -0.0378685, 0.0386979, ...]\n",
            "  T#91(model_2/conv4_block5_1_conv/Conv2D) shape:[256, 1, 1, 1024], type:FLOAT32 RO 1048576 bytes, buffer: 92, data:[-0.0375194, -0.0083469, -1.37566e-05, -0.0386556, -0.0149078, ...]\n",
            "  T#92(model_2/conv4_block5_2_conv/Conv2D) shape:[256, 3, 3, 256], type:FLOAT32 RO 2359296 bytes, buffer: 93, data:[-0.03142, -0.0197236, -0.0544025, -0.00986061, -0.0225427, ...]\n",
            "  T#93(model_2/conv4_block5_3_conv/Conv2D) shape:[1024, 1, 1, 256], type:FLOAT32 RO 1048576 bytes, buffer: 94, data:[-0.0424505, 0.0958334, 0.0857711, -0.000200536, -0.0620915, ...]\n",
            "  T#94(model_2/conv4_block6_1_conv/Conv2D) shape:[256, 1, 1, 1024], type:FLOAT32 RO 1048576 bytes, buffer: 95, data:[-0.0159027, -0.0386497, -0.0520921, -0.0638203, -0.017865, ...]\n",
            "  T#95(model_2/conv4_block6_2_conv/Conv2D) shape:[256, 3, 3, 256], type:FLOAT32 RO 2359296 bytes, buffer: 96, data:[0.0349812, 0.0334274, -0.0114728, 0.0111661, -0.000866517, ...]\n",
            "  T#96(model_2/conv4_block6_3_conv/Conv2D) shape:[1024, 1, 1, 256], type:FLOAT32 RO 1048576 bytes, buffer: 97, data:[-0.0396923, -0.0386061, -0.00925063, -0.0504853, 0.0545271, ...]\n",
            "  T#97(model_2/conv5_block1_0_conv/Conv2D) shape:[2048, 1, 1, 1024], type:FLOAT32 RO 8388608 bytes, buffer: 98, data:[-0.0683133, 0.00344956, -0.0183614, -0.0112112, -0.074335, ...]\n",
            "  T#98(model_2/conv5_block1_1_conv/Conv2D) shape:[512, 1, 1, 1024], type:FLOAT32 RO 2097152 bytes, buffer: 99, data:[0.0108446, -0.0139888, 0.0640838, 0.0198699, -0.0319034, ...]\n",
            "  T#99(model_2/conv5_block1_2_conv/Conv2D) shape:[512, 3, 3, 512], type:FLOAT32 RO 9437184 bytes, buffer: 100, data:[-0.000106235, 0.0199142, 0.0332192, 0.010981, -0.00811725, ...]\n",
            "  T#100(model_2/conv5_block1_3_conv/Conv2D) shape:[2048, 1, 1, 512], type:FLOAT32 RO 4194304 bytes, buffer: 101, data:[-0.186856, -0.0500099, -0.219489, 0.229853, 1.0918, ...]\n",
            "  T#101(model_2/conv5_block2_1_conv/Conv2D) shape:[512, 1, 1, 2048], type:FLOAT32 RO 4194304 bytes, buffer: 102, data:[-0.00646599, 0.0101589, 0.00254515, -0.011536, 0.00282318, ...]\n",
            "  T#102(model_2/conv5_block2_2_conv/Conv2D) shape:[512, 3, 3, 512], type:FLOAT32 RO 9437184 bytes, buffer: 103, data:[0.0218056, -0.0115005, -0.00681196, 0.0028211, -0.0371035, ...]\n",
            "  T#103(model_2/conv5_block2_3_conv/Conv2D) shape:[2048, 1, 1, 512], type:FLOAT32 RO 4194304 bytes, buffer: 104, data:[0.102923, -0.0504059, 0.377538, -0.10632, -0.100451, ...]\n",
            "  T#104(model_2/conv5_block3_1_conv/Conv2D) shape:[512, 1, 1, 2048], type:FLOAT32 RO 4194304 bytes, buffer: 105, data:[-0.0125472, 0.0116634, 0.00528733, -0.0111014, -0.0102193, ...]\n",
            "  T#105(model_2/conv5_block3_2_conv/Conv2D) shape:[512, 3, 3, 512], type:FLOAT32 RO 9437184 bytes, buffer: 106, data:[-0.04268, -0.000195644, 0.0114277, 0.024217, -0.0124952, ...]\n",
            "  T#106(model_2/conv5_block3_3_conv/Conv2D) shape:[2048, 1, 1, 512], type:FLOAT32 RO 4194304 bytes, buffer: 107, data:[0.237899, 0.0887027, 0.265645, -0.253585, -0.268997, ...]\n",
            "  T#107(model_2/dense_8/BiasAdd/ReadVariableOp) shape:[2], type:FLOAT32 RO 8 bytes, buffer: 108, data:[-0.00106071, 0.00106071]\n",
            "  T#108(model_2/dense_7/BiasAdd/ReadVariableOp) shape:[50], type:FLOAT32 RO 200 bytes, buffer: 109, data:[-0.00280597, 0.000489546, -0.000714615, 0, 0.00170774, ...]\n",
            "  T#109(model_2/dense_6/BiasAdd/ReadVariableOp) shape:[128], type:FLOAT32 RO 512 bytes, buffer: 110, data:[0.00324976, -0.000874955, 0.0026164, 0.000414175, -0.000513535, ...]\n",
            "  T#110(model_2/pool1_pad/Pad/paddings) shape:[4, 2], type:INT32 RO 32 bytes, buffer: 111, data:[0, 0, 1, 1, 1, ...]\n",
            "  T#111(model_2/avg_pool/Mean/reduction_indices) shape:[2], type:INT32 RO 8 bytes, buffer: 112, data:[1, 2]\n",
            "  T#112(model_2/conv1_pad/Pad/paddings) shape:[4, 2], type:INT32 RO 32 bytes, buffer: 113, data:[0, 0, 3, 3, 3, ...]\n",
            "  T#113(model_2/dense_6/MatMul) shape:[128, 2048], type:FLOAT32 RO 1048576 bytes, buffer: 114, data:[-0.0106389, 0.0314074, 0.0541629, 0.0521048, -0.0356085, ...]\n",
            "  T#114(model_2/dense_7/MatMul) shape:[50, 128], type:FLOAT32 RO 25600 bytes, buffer: 115, data:[-0.00577377, 0.0237572, 0.00376546, 0.137645, -0.096267, ...]\n",
            "  T#115(model_2/dense_8/MatMul) shape:[2, 50], type:FLOAT32 RO 400 bytes, buffer: 116, data:[-0.166102, -0.000803646, -0.0504955, 0.157334, 0.0173422, ...]\n",
            "  T#116(model_2/conv1_pad/Pad) shape_signature:[-1, 230, 230, 3], type:FLOAT32\n",
            "  T#117(model_2/conv1_relu/Relu;model_2/conv1_bn/FusedBatchNormV3;model_2/conv1_conv/BiasAdd/ReadVariableOp;model_2/conv1_conv/BiasAdd;model_2/conv2_block1_1_conv/BiasAdd/ReadVariableOp;model_2/conv1_conv/Conv2D) shape_signature:[-1, 112, 112, 64], type:FLOAT32\n",
            "  T#118(model_2/pool1_pad/Pad) shape_signature:[-1, 114, 114, 64], type:FLOAT32\n",
            "  T#119(model_2/pool1_pool/MaxPool) shape_signature:[-1, 56, 56, 64], type:FLOAT32\n",
            "  T#120(model_2/conv2_block1_0_bn/FusedBatchNormV3;model_2/conv2_block1_0_conv/BiasAdd/ReadVariableOp;model_2/conv2_block1_0_conv/BiasAdd;model_2/conv2_block1_0_conv/Conv2D) shape_signature:[-1, 56, 56, 256], type:FLOAT32\n",
            "  T#121(model_2/conv2_block1_1_relu/Relu;model_2/conv2_block1_1_bn/FusedBatchNormV3;model_2/conv2_block1_1_conv/BiasAdd/ReadVariableOp;model_2/conv2_block1_1_conv/BiasAdd;model_2/conv2_block1_1_conv/Conv2D) shape_signature:[-1, 56, 56, 64], type:FLOAT32\n",
            "  T#122(model_2/conv2_block1_2_relu/Relu;model_2/conv2_block1_2_bn/FusedBatchNormV3;model_2/conv2_block1_1_conv/BiasAdd/ReadVariableOp;model_2/conv2_block1_2_conv/BiasAdd;model_2/conv2_block1_2_conv/Conv2D) shape_signature:[-1, 56, 56, 64], type:FLOAT32\n",
            "  T#123(model_2/conv2_block1_3_bn/FusedBatchNormV3;model_2/conv2_block1_0_conv/BiasAdd/ReadVariableOp;model_2/conv2_block1_3_conv/BiasAdd;model_2/conv2_block1_3_conv/Conv2D) shape_signature:[-1, 56, 56, 256], type:FLOAT32\n",
            "  T#124(model_2/conv2_block1_out/Relu;model_2/conv2_block1_add/add) shape_signature:[-1, 56, 56, 256], type:FLOAT32\n",
            "  T#125(model_2/conv2_block2_1_relu/Relu;model_2/conv2_block2_1_bn/FusedBatchNormV3;model_2/conv2_block1_1_conv/BiasAdd/ReadVariableOp;model_2/conv2_block2_1_conv/BiasAdd;model_2/conv2_block2_1_conv/Conv2D) shape_signature:[-1, 56, 56, 64], type:FLOAT32\n",
            "  T#126(model_2/conv2_block2_2_relu/Relu;model_2/conv2_block2_2_bn/FusedBatchNormV3;model_2/conv2_block1_1_conv/BiasAdd/ReadVariableOp;model_2/conv2_block2_2_conv/BiasAdd;model_2/conv2_block2_2_conv/Conv2D) shape_signature:[-1, 56, 56, 64], type:FLOAT32\n",
            "  T#127(model_2/conv2_block2_3_bn/FusedBatchNormV3;model_2/conv2_block1_0_conv/BiasAdd/ReadVariableOp;model_2/conv2_block2_3_conv/BiasAdd;model_2/conv2_block2_3_conv/Conv2D) shape_signature:[-1, 56, 56, 256], type:FLOAT32\n",
            "  T#128(model_2/conv2_block2_out/Relu;model_2/conv2_block2_add/add) shape_signature:[-1, 56, 56, 256], type:FLOAT32\n",
            "  T#129(model_2/conv2_block3_1_relu/Relu;model_2/conv2_block3_1_bn/FusedBatchNormV3;model_2/conv2_block1_1_conv/BiasAdd/ReadVariableOp;model_2/conv2_block3_1_conv/BiasAdd;model_2/conv2_block3_1_conv/Conv2D) shape_signature:[-1, 56, 56, 64], type:FLOAT32\n",
            "  T#130(model_2/conv2_block3_2_relu/Relu;model_2/conv2_block3_2_bn/FusedBatchNormV3;model_2/conv2_block1_1_conv/BiasAdd/ReadVariableOp;model_2/conv2_block3_2_conv/BiasAdd;model_2/conv2_block3_2_conv/Conv2D) shape_signature:[-1, 56, 56, 64], type:FLOAT32\n",
            "  T#131(model_2/conv2_block3_3_bn/FusedBatchNormV3;model_2/conv2_block1_0_conv/BiasAdd/ReadVariableOp;model_2/conv2_block3_3_conv/BiasAdd;model_2/conv2_block3_3_conv/Conv2D) shape_signature:[-1, 56, 56, 256], type:FLOAT32\n",
            "  T#132(model_2/conv2_block3_out/Relu;model_2/conv2_block3_add/add) shape_signature:[-1, 56, 56, 256], type:FLOAT32\n",
            "  T#133(model_2/conv3_block1_0_bn/FusedBatchNormV3;model_2/conv3_block1_0_conv/BiasAdd/ReadVariableOp;model_2/conv3_block1_0_conv/BiasAdd;model_2/conv3_block1_0_conv/Conv2D) shape_signature:[-1, 28, 28, 512], type:FLOAT32\n",
            "  T#134(model_2/conv3_block1_1_relu/Relu;model_2/conv3_block1_1_bn/FusedBatchNormV3;model_2/conv3_block1_1_conv/BiasAdd/ReadVariableOp;model_2/conv3_block1_1_conv/BiasAdd;model_2/conv3_block1_1_conv/Conv2D) shape_signature:[-1, 28, 28, 128], type:FLOAT32\n",
            "  T#135(model_2/conv3_block1_2_relu/Relu;model_2/conv3_block1_2_bn/FusedBatchNormV3;model_2/conv3_block1_1_conv/BiasAdd/ReadVariableOp;model_2/conv3_block1_2_conv/BiasAdd;model_2/conv3_block1_2_conv/Conv2D) shape_signature:[-1, 28, 28, 128], type:FLOAT32\n",
            "  T#136(model_2/conv3_block1_3_bn/FusedBatchNormV3;model_2/conv3_block1_0_conv/BiasAdd/ReadVariableOp;model_2/conv3_block1_3_conv/BiasAdd;model_2/conv3_block1_3_conv/Conv2D) shape_signature:[-1, 28, 28, 512], type:FLOAT32\n",
            "  T#137(model_2/conv3_block1_out/Relu;model_2/conv3_block1_add/add) shape_signature:[-1, 28, 28, 512], type:FLOAT32\n",
            "  T#138(model_2/conv3_block2_1_relu/Relu;model_2/conv3_block2_1_bn/FusedBatchNormV3;model_2/conv3_block1_1_conv/BiasAdd/ReadVariableOp;model_2/conv3_block2_1_conv/BiasAdd;model_2/conv3_block2_1_conv/Conv2D) shape_signature:[-1, 28, 28, 128], type:FLOAT32\n",
            "  T#139(model_2/conv3_block2_2_relu/Relu;model_2/conv3_block2_2_bn/FusedBatchNormV3;model_2/conv3_block1_1_conv/BiasAdd/ReadVariableOp;model_2/conv3_block2_2_conv/BiasAdd;model_2/conv3_block2_2_conv/Conv2D) shape_signature:[-1, 28, 28, 128], type:FLOAT32\n",
            "  T#140(model_2/conv3_block2_3_bn/FusedBatchNormV3;model_2/conv3_block1_0_conv/BiasAdd/ReadVariableOp;model_2/conv3_block2_3_conv/BiasAdd;model_2/conv3_block2_3_conv/Conv2D) shape_signature:[-1, 28, 28, 512], type:FLOAT32\n",
            "  T#141(model_2/conv3_block2_out/Relu;model_2/conv3_block2_add/add) shape_signature:[-1, 28, 28, 512], type:FLOAT32\n",
            "  T#142(model_2/conv3_block3_1_relu/Relu;model_2/conv3_block3_1_bn/FusedBatchNormV3;model_2/conv3_block1_1_conv/BiasAdd/ReadVariableOp;model_2/conv3_block3_1_conv/BiasAdd;model_2/conv3_block3_1_conv/Conv2D) shape_signature:[-1, 28, 28, 128], type:FLOAT32\n",
            "  T#143(model_2/conv3_block3_2_relu/Relu;model_2/conv3_block3_2_bn/FusedBatchNormV3;model_2/conv3_block1_1_conv/BiasAdd/ReadVariableOp;model_2/conv3_block3_2_conv/BiasAdd;model_2/conv3_block3_2_conv/Conv2D) shape_signature:[-1, 28, 28, 128], type:FLOAT32\n",
            "  T#144(model_2/conv3_block3_3_bn/FusedBatchNormV3;model_2/conv3_block1_0_conv/BiasAdd/ReadVariableOp;model_2/conv3_block3_3_conv/BiasAdd;model_2/conv3_block3_3_conv/Conv2D) shape_signature:[-1, 28, 28, 512], type:FLOAT32\n",
            "  T#145(model_2/conv3_block3_out/Relu;model_2/conv3_block3_add/add) shape_signature:[-1, 28, 28, 512], type:FLOAT32\n",
            "  T#146(model_2/conv3_block4_1_relu/Relu;model_2/conv3_block4_1_bn/FusedBatchNormV3;model_2/conv3_block1_1_conv/BiasAdd/ReadVariableOp;model_2/conv3_block4_1_conv/BiasAdd;model_2/conv3_block4_1_conv/Conv2D) shape_signature:[-1, 28, 28, 128], type:FLOAT32\n",
            "  T#147(model_2/conv3_block4_2_relu/Relu;model_2/conv3_block4_2_bn/FusedBatchNormV3;model_2/conv3_block1_1_conv/BiasAdd/ReadVariableOp;model_2/conv3_block4_2_conv/BiasAdd;model_2/conv3_block4_2_conv/Conv2D) shape_signature:[-1, 28, 28, 128], type:FLOAT32\n",
            "  T#148(model_2/conv3_block4_3_bn/FusedBatchNormV3;model_2/conv3_block1_0_conv/BiasAdd/ReadVariableOp;model_2/conv3_block4_3_conv/BiasAdd;model_2/conv3_block4_3_conv/Conv2D) shape_signature:[-1, 28, 28, 512], type:FLOAT32\n",
            "  T#149(model_2/conv3_block4_out/Relu;model_2/conv3_block4_add/add) shape_signature:[-1, 28, 28, 512], type:FLOAT32\n",
            "  T#150(model_2/conv4_block1_0_bn/FusedBatchNormV3;model_2/conv4_block1_0_conv/BiasAdd/ReadVariableOp;model_2/conv4_block1_0_conv/BiasAdd;model_2/conv4_block1_0_conv/Conv2D) shape_signature:[-1, 14, 14, 1024], type:FLOAT32\n",
            "  T#151(model_2/conv4_block1_1_relu/Relu;model_2/conv4_block1_1_bn/FusedBatchNormV3;model_2/conv2_block1_0_conv/BiasAdd/ReadVariableOp;model_2/conv4_block1_1_conv/BiasAdd;model_2/conv4_block1_1_conv/Conv2D) shape_signature:[-1, 14, 14, 256], type:FLOAT32\n",
            "  T#152(model_2/conv4_block1_2_relu/Relu;model_2/conv4_block1_2_bn/FusedBatchNormV3;model_2/conv2_block1_0_conv/BiasAdd/ReadVariableOp;model_2/conv4_block1_2_conv/BiasAdd;model_2/conv4_block1_2_conv/Conv2D) shape_signature:[-1, 14, 14, 256], type:FLOAT32\n",
            "  T#153(model_2/conv4_block1_3_bn/FusedBatchNormV3;model_2/conv4_block1_0_conv/BiasAdd/ReadVariableOp;model_2/conv4_block1_3_conv/BiasAdd;model_2/conv4_block1_3_conv/Conv2D) shape_signature:[-1, 14, 14, 1024], type:FLOAT32\n",
            "  T#154(model_2/conv4_block1_out/Relu;model_2/conv4_block1_add/add) shape_signature:[-1, 14, 14, 1024], type:FLOAT32\n",
            "  T#155(model_2/conv4_block2_1_relu/Relu;model_2/conv4_block2_1_bn/FusedBatchNormV3;model_2/conv2_block1_0_conv/BiasAdd/ReadVariableOp;model_2/conv4_block2_1_conv/BiasAdd;model_2/conv4_block2_1_conv/Conv2D) shape_signature:[-1, 14, 14, 256], type:FLOAT32\n",
            "  T#156(model_2/conv4_block2_2_relu/Relu;model_2/conv4_block2_2_bn/FusedBatchNormV3;model_2/conv2_block1_0_conv/BiasAdd/ReadVariableOp;model_2/conv4_block2_2_conv/BiasAdd;model_2/conv4_block2_2_conv/Conv2D) shape_signature:[-1, 14, 14, 256], type:FLOAT32\n",
            "  T#157(model_2/conv4_block2_3_bn/FusedBatchNormV3;model_2/conv4_block1_0_conv/BiasAdd/ReadVariableOp;model_2/conv4_block2_3_conv/BiasAdd;model_2/conv4_block2_3_conv/Conv2D) shape_signature:[-1, 14, 14, 1024], type:FLOAT32\n",
            "  T#158(model_2/conv4_block2_out/Relu;model_2/conv4_block2_add/add) shape_signature:[-1, 14, 14, 1024], type:FLOAT32\n",
            "  T#159(model_2/conv4_block3_1_relu/Relu;model_2/conv4_block3_1_bn/FusedBatchNormV3;model_2/conv2_block1_0_conv/BiasAdd/ReadVariableOp;model_2/conv4_block3_1_conv/BiasAdd;model_2/conv4_block3_1_conv/Conv2D) shape_signature:[-1, 14, 14, 256], type:FLOAT32\n",
            "  T#160(model_2/conv4_block3_2_relu/Relu;model_2/conv4_block3_2_bn/FusedBatchNormV3;model_2/conv2_block1_0_conv/BiasAdd/ReadVariableOp;model_2/conv4_block3_2_conv/BiasAdd;model_2/conv4_block3_2_conv/Conv2D) shape_signature:[-1, 14, 14, 256], type:FLOAT32\n",
            "  T#161(model_2/conv4_block3_3_bn/FusedBatchNormV3;model_2/conv4_block1_0_conv/BiasAdd/ReadVariableOp;model_2/conv4_block3_3_conv/BiasAdd;model_2/conv4_block3_3_conv/Conv2D) shape_signature:[-1, 14, 14, 1024], type:FLOAT32\n",
            "  T#162(model_2/conv4_block3_out/Relu;model_2/conv4_block3_add/add) shape_signature:[-1, 14, 14, 1024], type:FLOAT32\n",
            "  T#163(model_2/conv4_block4_1_relu/Relu;model_2/conv4_block4_1_bn/FusedBatchNormV3;model_2/conv2_block1_0_conv/BiasAdd/ReadVariableOp;model_2/conv4_block4_1_conv/BiasAdd;model_2/conv4_block4_1_conv/Conv2D) shape_signature:[-1, 14, 14, 256], type:FLOAT32\n",
            "  T#164(model_2/conv4_block4_2_relu/Relu;model_2/conv4_block4_2_bn/FusedBatchNormV3;model_2/conv2_block1_0_conv/BiasAdd/ReadVariableOp;model_2/conv4_block4_2_conv/BiasAdd;model_2/conv4_block4_2_conv/Conv2D) shape_signature:[-1, 14, 14, 256], type:FLOAT32\n",
            "  T#165(model_2/conv4_block4_3_bn/FusedBatchNormV3;model_2/conv4_block1_0_conv/BiasAdd/ReadVariableOp;model_2/conv4_block4_3_conv/BiasAdd;model_2/conv4_block4_3_conv/Conv2D) shape_signature:[-1, 14, 14, 1024], type:FLOAT32\n",
            "  T#166(model_2/conv4_block4_out/Relu;model_2/conv4_block4_add/add) shape_signature:[-1, 14, 14, 1024], type:FLOAT32\n",
            "  T#167(model_2/conv4_block5_1_relu/Relu;model_2/conv4_block5_1_bn/FusedBatchNormV3;model_2/conv2_block1_0_conv/BiasAdd/ReadVariableOp;model_2/conv4_block5_1_conv/BiasAdd;model_2/conv4_block5_1_conv/Conv2D) shape_signature:[-1, 14, 14, 256], type:FLOAT32\n",
            "  T#168(model_2/conv4_block5_2_relu/Relu;model_2/conv4_block5_2_bn/FusedBatchNormV3;model_2/conv2_block1_0_conv/BiasAdd/ReadVariableOp;model_2/conv4_block5_2_conv/BiasAdd;model_2/conv4_block5_2_conv/Conv2D) shape_signature:[-1, 14, 14, 256], type:FLOAT32\n",
            "  T#169(model_2/conv4_block5_3_bn/FusedBatchNormV3;model_2/conv4_block1_0_conv/BiasAdd/ReadVariableOp;model_2/conv4_block5_3_conv/BiasAdd;model_2/conv4_block5_3_conv/Conv2D) shape_signature:[-1, 14, 14, 1024], type:FLOAT32\n",
            "  T#170(model_2/conv4_block5_out/Relu;model_2/conv4_block5_add/add) shape_signature:[-1, 14, 14, 1024], type:FLOAT32\n",
            "  T#171(model_2/conv4_block6_1_relu/Relu;model_2/conv4_block6_1_bn/FusedBatchNormV3;model_2/conv2_block1_0_conv/BiasAdd/ReadVariableOp;model_2/conv4_block6_1_conv/BiasAdd;model_2/conv4_block6_1_conv/Conv2D) shape_signature:[-1, 14, 14, 256], type:FLOAT32\n",
            "  T#172(model_2/conv4_block6_2_relu/Relu;model_2/conv4_block6_2_bn/FusedBatchNormV3;model_2/conv2_block1_0_conv/BiasAdd/ReadVariableOp;model_2/conv4_block6_2_conv/BiasAdd;model_2/conv4_block6_2_conv/Conv2D) shape_signature:[-1, 14, 14, 256], type:FLOAT32\n",
            "  T#173(model_2/conv4_block6_3_bn/FusedBatchNormV3;model_2/conv4_block1_0_conv/BiasAdd/ReadVariableOp;model_2/conv4_block6_3_conv/BiasAdd;model_2/conv4_block6_3_conv/Conv2D) shape_signature:[-1, 14, 14, 1024], type:FLOAT32\n",
            "  T#174(model_2/conv4_block6_out/Relu;model_2/conv4_block6_add/add) shape_signature:[-1, 14, 14, 1024], type:FLOAT32\n",
            "  T#175(model_2/conv5_block1_0_bn/FusedBatchNormV3;model_2/conv5_block1_0_conv/BiasAdd/ReadVariableOp;model_2/conv5_block1_0_conv/BiasAdd;model_2/conv5_block1_0_conv/Conv2D) shape_signature:[-1, 7, 7, 2048], type:FLOAT32\n",
            "  T#176(model_2/conv5_block1_1_relu/Relu;model_2/conv5_block1_1_bn/FusedBatchNormV3;model_2/conv3_block1_0_conv/BiasAdd/ReadVariableOp;model_2/conv5_block1_1_conv/BiasAdd;model_2/conv5_block1_1_conv/Conv2D) shape_signature:[-1, 7, 7, 512], type:FLOAT32\n",
            "  T#177(model_2/conv5_block1_2_relu/Relu;model_2/conv5_block1_2_bn/FusedBatchNormV3;model_2/conv3_block1_0_conv/BiasAdd/ReadVariableOp;model_2/conv5_block1_2_conv/BiasAdd;model_2/conv5_block1_2_conv/Conv2D) shape_signature:[-1, 7, 7, 512], type:FLOAT32\n",
            "  T#178(model_2/conv5_block1_3_bn/FusedBatchNormV3;model_2/conv5_block1_0_conv/BiasAdd/ReadVariableOp;model_2/conv5_block1_3_conv/BiasAdd;model_2/conv5_block1_3_conv/Conv2D) shape_signature:[-1, 7, 7, 2048], type:FLOAT32\n",
            "  T#179(model_2/conv5_block1_out/Relu;model_2/conv5_block1_add/add) shape_signature:[-1, 7, 7, 2048], type:FLOAT32\n",
            "  T#180(model_2/conv5_block2_1_relu/Relu;model_2/conv5_block2_1_bn/FusedBatchNormV3;model_2/conv3_block1_0_conv/BiasAdd/ReadVariableOp;model_2/conv5_block2_1_conv/BiasAdd;model_2/conv5_block2_1_conv/Conv2D) shape_signature:[-1, 7, 7, 512], type:FLOAT32\n",
            "  T#181(model_2/conv5_block2_2_relu/Relu;model_2/conv5_block2_2_bn/FusedBatchNormV3;model_2/conv3_block1_0_conv/BiasAdd/ReadVariableOp;model_2/conv5_block2_2_conv/BiasAdd;model_2/conv5_block2_2_conv/Conv2D) shape_signature:[-1, 7, 7, 512], type:FLOAT32\n",
            "  T#182(model_2/conv5_block2_3_bn/FusedBatchNormV3;model_2/conv5_block1_0_conv/BiasAdd/ReadVariableOp;model_2/conv5_block2_3_conv/BiasAdd;model_2/conv5_block2_3_conv/Conv2D) shape_signature:[-1, 7, 7, 2048], type:FLOAT32\n",
            "  T#183(model_2/conv5_block2_out/Relu;model_2/conv5_block2_add/add) shape_signature:[-1, 7, 7, 2048], type:FLOAT32\n",
            "  T#184(model_2/conv5_block3_1_relu/Relu;model_2/conv5_block3_1_bn/FusedBatchNormV3;model_2/conv3_block1_0_conv/BiasAdd/ReadVariableOp;model_2/conv5_block3_1_conv/BiasAdd;model_2/conv5_block3_1_conv/Conv2D) shape_signature:[-1, 7, 7, 512], type:FLOAT32\n",
            "  T#185(model_2/conv5_block3_2_relu/Relu;model_2/conv5_block3_2_bn/FusedBatchNormV3;model_2/conv3_block1_0_conv/BiasAdd/ReadVariableOp;model_2/conv5_block3_2_conv/BiasAdd;model_2/conv5_block3_2_conv/Conv2D) shape_signature:[-1, 7, 7, 512], type:FLOAT32\n",
            "  T#186(model_2/conv5_block3_3_bn/FusedBatchNormV3;model_2/conv5_block1_0_conv/BiasAdd/ReadVariableOp;model_2/conv5_block3_3_conv/BiasAdd;model_2/conv5_block3_3_conv/Conv2D) shape_signature:[-1, 7, 7, 2048], type:FLOAT32\n",
            "  T#187(model_2/conv5_block3_out/Relu;model_2/conv5_block3_add/add) shape_signature:[-1, 7, 7, 2048], type:FLOAT32\n",
            "  T#188(model_2/avg_pool/Mean) shape_signature:[-1, 2048], type:FLOAT32\n",
            "  T#189(model_2/dense_6/MatMul;model_2/dense_6/Relu;model_2/dense_6/BiasAdd) shape_signature:[-1, 128], type:FLOAT32\n",
            "  T#190(model_2/dense_7/MatMul;model_2/dense_7/Relu;model_2/dense_7/BiasAdd) shape_signature:[-1, 50], type:FLOAT32\n",
            "  T#191(model_2/dense_8/MatMul;model_2/dense_8/BiasAdd) shape_signature:[-1, 2], type:FLOAT32\n",
            "  T#192(StatefulPartitionedCall:0) shape_signature:[-1, 2], type:FLOAT32\n",
            "\n",
            "---------------------------------------------------------------\n",
            "Your TFLite model has '1' signature_def(s).\n",
            "\n",
            "Signature#0 key: 'serving_default'\n",
            "- Subgraph: Subgraph#0\n",
            "- Inputs: \n",
            "    'input_3' : T#0\n",
            "- Outputs: \n",
            "    'dense_8' : T#192\n",
            "\n",
            "---------------------------------------------------------------\n",
            "              Model size:   95037216 bytes\n",
            "    Non-data buffer size:      35860 bytes (00.04 %)\n",
            "  Total data buffer size:   95001356 bytes (99.96 %)\n",
            "    (Zero value buffers):          0 bytes (00.00 %)\n",
            "\n",
            "* Buffers of TFLite model are mostly used for constant tensors.\n",
            "  And zero value buffers are buffers filled with zeros.\n",
            "  Non-data buffers area are used to store operators, subgraphs and etc.\n",
            "  You can find more details from https://github.com/tensorflow/tensorflow/blob/master/tensorflow/lite/schema/schema.fbs\n",
            "\n",
            "Model converted and saved as /content/drive/MyDrive/(Final Project _ IAT481)/convertedModels/ResNet50_Shoulder_fracjustTest.tflite\n"
          ]
        }
      ]
    },
    {
      "cell_type": "code",
      "source": [
        "import tensorflow as tf\n",
        "model = \"/content/drive/MyDrive/(Final Project _ IAT481)/convertedModels/ResNet50_BodyParts.tflite\"\n",
        "tf.lite.experimental.Analyzer.analyze(model_content=model)"
      ],
      "metadata": {
        "colab": {
          "base_uri": "https://localhost:8080/"
        },
        "id": "Cd0kqBHHhBsY",
        "outputId": "25d3e4a7-67f4-4c63-ac46-d29c0108140f"
      },
      "execution_count": 2,
      "outputs": [
        {
          "output_type": "stream",
          "name": "stdout",
          "text": [
            "=== TFLite ModelAnalyzer ===\n",
            "\n",
            "Model provided has model identifier 'tent', should be 'TFL3'\n",
            "Failed to mmap the given model buffer.\n"
          ]
        }
      ]
    }
  ]
}